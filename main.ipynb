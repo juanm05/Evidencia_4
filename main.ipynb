{
 "cells": [
  {
   "cell_type": "code",
   "execution_count": 102,
   "metadata": {},
   "outputs": [],
   "source": [
    "import pandas as pd\n",
    "import numpy as np \n",
    "import matplotlib.pyplot as plt\n",
    "import seaborn as sns\n",
    "\n",
    "from sklearn.linear_model import LinearRegression\n",
    "from sklearn.model_selection import train_test_split"
   ]
  },
  {
   "cell_type": "code",
   "execution_count": 103,
   "metadata": {},
   "outputs": [],
   "source": [
    "df = pd.read_csv(\"precios_autos.csv\")"
   ]
  },
  {
   "cell_type": "code",
   "execution_count": 104,
   "metadata": {},
   "outputs": [
    {
     "data": {
      "text/plain": [
       "Index(['symboling', 'CarName', 'fueltype', 'carbody', 'drivewheel',\n",
       "       'enginelocation', 'wheelbase', 'carlength', 'carwidth', 'carheight',\n",
       "       'curbweight', 'enginetype', 'cylindernumber', 'enginesize', 'stroke',\n",
       "       'compressionratio', 'horsepower', 'peakrpm', 'citympg', 'highwaympg',\n",
       "       'price'],\n",
       "      dtype='object')"
      ]
     },
     "execution_count": 104,
     "metadata": {},
     "output_type": "execute_result"
    }
   ],
   "source": [
    "df.columns"
   ]
  },
  {
   "cell_type": "code",
   "execution_count": 105,
   "metadata": {},
   "outputs": [
    {
     "data": {
      "text/html": [
       "<div>\n",
       "<style scoped>\n",
       "    .dataframe tbody tr th:only-of-type {\n",
       "        vertical-align: middle;\n",
       "    }\n",
       "\n",
       "    .dataframe tbody tr th {\n",
       "        vertical-align: top;\n",
       "    }\n",
       "\n",
       "    .dataframe thead th {\n",
       "        text-align: right;\n",
       "    }\n",
       "</style>\n",
       "<table border=\"1\" class=\"dataframe\">\n",
       "  <thead>\n",
       "    <tr style=\"text-align: right;\">\n",
       "      <th></th>\n",
       "      <th>symboling</th>\n",
       "      <th>CarName</th>\n",
       "      <th>fueltype</th>\n",
       "      <th>carbody</th>\n",
       "      <th>drivewheel</th>\n",
       "      <th>enginelocation</th>\n",
       "      <th>wheelbase</th>\n",
       "      <th>carlength</th>\n",
       "      <th>carwidth</th>\n",
       "      <th>carheight</th>\n",
       "      <th>...</th>\n",
       "      <th>enginetype</th>\n",
       "      <th>cylindernumber</th>\n",
       "      <th>enginesize</th>\n",
       "      <th>stroke</th>\n",
       "      <th>compressionratio</th>\n",
       "      <th>horsepower</th>\n",
       "      <th>peakrpm</th>\n",
       "      <th>citympg</th>\n",
       "      <th>highwaympg</th>\n",
       "      <th>price</th>\n",
       "    </tr>\n",
       "  </thead>\n",
       "  <tbody>\n",
       "    <tr>\n",
       "      <th>0</th>\n",
       "      <td>3</td>\n",
       "      <td>alfa-romero giulia</td>\n",
       "      <td>gas</td>\n",
       "      <td>convertible</td>\n",
       "      <td>rwd</td>\n",
       "      <td>front</td>\n",
       "      <td>88.6</td>\n",
       "      <td>168.8</td>\n",
       "      <td>64.1</td>\n",
       "      <td>48.8</td>\n",
       "      <td>...</td>\n",
       "      <td>dohc</td>\n",
       "      <td>four</td>\n",
       "      <td>130</td>\n",
       "      <td>2.68</td>\n",
       "      <td>9.0</td>\n",
       "      <td>111</td>\n",
       "      <td>5000</td>\n",
       "      <td>21</td>\n",
       "      <td>27</td>\n",
       "      <td>13495.0</td>\n",
       "    </tr>\n",
       "    <tr>\n",
       "      <th>1</th>\n",
       "      <td>3</td>\n",
       "      <td>alfa-romero stelvio</td>\n",
       "      <td>gas</td>\n",
       "      <td>convertible</td>\n",
       "      <td>rwd</td>\n",
       "      <td>front</td>\n",
       "      <td>88.6</td>\n",
       "      <td>168.8</td>\n",
       "      <td>64.1</td>\n",
       "      <td>48.8</td>\n",
       "      <td>...</td>\n",
       "      <td>dohc</td>\n",
       "      <td>four</td>\n",
       "      <td>130</td>\n",
       "      <td>2.68</td>\n",
       "      <td>9.0</td>\n",
       "      <td>111</td>\n",
       "      <td>5000</td>\n",
       "      <td>21</td>\n",
       "      <td>27</td>\n",
       "      <td>16500.0</td>\n",
       "    </tr>\n",
       "    <tr>\n",
       "      <th>2</th>\n",
       "      <td>1</td>\n",
       "      <td>alfa-romero Quadrifoglio</td>\n",
       "      <td>gas</td>\n",
       "      <td>hatchback</td>\n",
       "      <td>rwd</td>\n",
       "      <td>front</td>\n",
       "      <td>94.5</td>\n",
       "      <td>171.2</td>\n",
       "      <td>65.5</td>\n",
       "      <td>52.4</td>\n",
       "      <td>...</td>\n",
       "      <td>ohcv</td>\n",
       "      <td>six</td>\n",
       "      <td>152</td>\n",
       "      <td>3.47</td>\n",
       "      <td>9.0</td>\n",
       "      <td>154</td>\n",
       "      <td>5000</td>\n",
       "      <td>19</td>\n",
       "      <td>26</td>\n",
       "      <td>16500.0</td>\n",
       "    </tr>\n",
       "  </tbody>\n",
       "</table>\n",
       "<p>3 rows × 21 columns</p>\n",
       "</div>"
      ],
      "text/plain": [
       "   symboling                   CarName fueltype      carbody drivewheel  \\\n",
       "0          3        alfa-romero giulia      gas  convertible        rwd   \n",
       "1          3       alfa-romero stelvio      gas  convertible        rwd   \n",
       "2          1  alfa-romero Quadrifoglio      gas    hatchback        rwd   \n",
       "\n",
       "  enginelocation  wheelbase  carlength  carwidth  carheight  ...  enginetype  \\\n",
       "0          front       88.6      168.8      64.1       48.8  ...        dohc   \n",
       "1          front       88.6      168.8      64.1       48.8  ...        dohc   \n",
       "2          front       94.5      171.2      65.5       52.4  ...        ohcv   \n",
       "\n",
       "  cylindernumber enginesize  stroke  compressionratio  horsepower  peakrpm  \\\n",
       "0           four        130    2.68               9.0         111     5000   \n",
       "1           four        130    2.68               9.0         111     5000   \n",
       "2            six        152    3.47               9.0         154     5000   \n",
       "\n",
       "   citympg  highwaympg    price  \n",
       "0       21          27  13495.0  \n",
       "1       21          27  16500.0  \n",
       "2       19          26  16500.0  \n",
       "\n",
       "[3 rows x 21 columns]"
      ]
     },
     "execution_count": 105,
     "metadata": {},
     "output_type": "execute_result"
    }
   ],
   "source": [
    "df.head(3)"
   ]
  },
  {
   "cell_type": "code",
   "execution_count": 106,
   "metadata": {},
   "outputs": [
    {
     "data": {
      "text/plain": [
       "<AxesSubplot:>"
      ]
     },
     "execution_count": 106,
     "metadata": {},
     "output_type": "execute_result"
    },
    {
     "data": {
      "image/png": "[encoded data removed]",
      "text/plain": [
       "<Figure size 1080x720 with 2 Axes>"
      ]
     },
     "metadata": {
      "needs_background": "light"
     },
     "output_type": "display_data"
    }
   ],
   "source": [
    "plt.subplots(figsize = (15, 10))\n",
    "\n",
    "sns.heatmap(df.corr())"
   ]
  },
  {
   "cell_type": "code",
   "execution_count": 107,
   "metadata": {},
   "outputs": [],
   "source": [
    "# Variables Numericas \n",
    "# •\tWheelbase\n",
    "# •\tCarlength \n",
    "# •\tCarwidth \n",
    "# •\tCarweight \n",
    "# •\tEnginesize \n",
    "# •\tHorsepower\n",
    "\n",
    "# Variables Categoricas \n",
    "# •\tCylindernumber \n",
    "# •\tCarbody \n",
    "# •\tFuletype "
   ]
  },
  {
   "cell_type": "code",
   "execution_count": 108,
   "metadata": {},
   "outputs": [
    {
     "data": {
      "image/png": "[encoded data removed]",
      "text/plain": [
       "<Figure size 1080x720 with 6 Axes>"
      ]
     },
     "metadata": {
      "needs_background": "light"
     },
     "output_type": "display_data"
    }
   ],
   "source": [
    "# Boxplots variables numericas\n",
    "fig, ax = plt.subplots(3, 2, figsize = (15, 10))\n",
    "\n",
    "ax1 = sns.boxplot(data = df, x = \"wheelbase\", ax = ax[0][0])\n",
    "ax1.set_title(\"wheelbase\")\n",
    "\n",
    "ax2 = sns.boxplot(data = df, x = \"carlength\", ax = ax[0][1])\n",
    "ax2.set_title(\"carlength\")\n",
    "\n",
    "ax3 = sns.boxplot(data = df, x = \"carwidth\", ax = ax[1][0])\n",
    "ax3.set_title(\"carwidth\")\n",
    "\n",
    "ax4 = sns.boxplot(data = df, x = \"curbweight\", ax = ax[1][1])\n",
    "ax4.set_title(\"curbweight\")\n",
    "\n",
    "ax5 = sns.boxplot(data = df, x = \"enginesize\", ax = ax[2][0])\n",
    "ax5.set_title(\"enginesize\")\n",
    "\n",
    "ax6 = sns.boxplot(data = df, x = \"horsepower\", ax = ax[2][1])\n",
    "ax6.set_title(\"horsepower\")\n",
    "\n",
    "plt.subplots_adjust(hspace=0.6)\n",
    "plt.show()"
   ]
  },
  {
   "cell_type": "code",
   "execution_count": 109,
   "metadata": {},
   "outputs": [
    {
     "data": {
      "image/png": "[encoded data removed]",
      "text/plain": [
       "<Figure size 1080x720 with 6 Axes>"
      ]
     },
     "metadata": {
      "needs_background": "light"
     },
     "output_type": "display_data"
    }
   ],
   "source": [
    "# Histogramas variables numericas\n",
    "fig, ax = plt.subplots(3, 2, figsize = (15, 10))\n",
    "\n",
    "ax1 = sns.histplot(data = df, x = \"wheelbase\", ax = ax[0][0])\n",
    "ax1.set_title(\"wheelbase\")\n",
    "\n",
    "ax2 = sns.histplot(data = df, x = \"carlength\", ax = ax[0][1])\n",
    "ax2.set_title(\"carlength\")\n",
    "\n",
    "ax3 = sns.histplot(data = df, x = \"carwidth\", ax = ax[1][0])\n",
    "ax3.set_title(\"carwidth\")\n",
    "\n",
    "ax4 = sns.histplot(data = df, x = \"curbweight\", ax = ax[1][1])\n",
    "ax4.set_title(\"curbweight\")\n",
    "\n",
    "ax5 = sns.histplot(data = df, x = \"enginesize\", ax = ax[2][0])\n",
    "ax5.set_title(\"enginesize\")\n",
    "\n",
    "ax6 = sns.histplot(data = df, x = \"horsepower\", ax = ax[2][1])\n",
    "ax6.set_title(\"horsepower\")\n",
    "\n",
    "plt.subplots_adjust(hspace=0.6)\n",
    "plt.show()"
   ]
  },
  {
   "cell_type": "code",
   "execution_count": 110,
   "metadata": {},
   "outputs": [
    {
     "data": {
      "text/html": [
       "<div>\n",
       "<style scoped>\n",
       "    .dataframe tbody tr th:only-of-type {\n",
       "        vertical-align: middle;\n",
       "    }\n",
       "\n",
       "    .dataframe tbody tr th {\n",
       "        vertical-align: top;\n",
       "    }\n",
       "\n",
       "    .dataframe thead th {\n",
       "        text-align: right;\n",
       "    }\n",
       "</style>\n",
       "<table border=\"1\" class=\"dataframe\">\n",
       "  <thead>\n",
       "    <tr style=\"text-align: right;\">\n",
       "      <th></th>\n",
       "      <th>wheelbase</th>\n",
       "      <th>carlength</th>\n",
       "      <th>carwidth</th>\n",
       "      <th>curbweight</th>\n",
       "      <th>enginesize</th>\n",
       "      <th>horsepower</th>\n",
       "    </tr>\n",
       "  </thead>\n",
       "  <tbody>\n",
       "    <tr>\n",
       "      <th>std</th>\n",
       "      <td>6.021776</td>\n",
       "      <td>12.337289</td>\n",
       "      <td>2.145204</td>\n",
       "      <td>520.680204</td>\n",
       "      <td>41.642693</td>\n",
       "      <td>39.544167</td>\n",
       "    </tr>\n",
       "    <tr>\n",
       "      <th>mean</th>\n",
       "      <td>98.756585</td>\n",
       "      <td>174.049268</td>\n",
       "      <td>65.907805</td>\n",
       "      <td>2555.565854</td>\n",
       "      <td>126.907317</td>\n",
       "      <td>104.117073</td>\n",
       "    </tr>\n",
       "    <tr>\n",
       "      <th>mode</th>\n",
       "      <td>94.500000</td>\n",
       "      <td>157.300000</td>\n",
       "      <td>63.800000</td>\n",
       "      <td>2385.000000</td>\n",
       "      <td>92.000000</td>\n",
       "      <td>68.000000</td>\n",
       "    </tr>\n",
       "  </tbody>\n",
       "</table>\n",
       "</div>"
      ],
      "text/plain": [
       "      wheelbase   carlength   carwidth   curbweight  enginesize  horsepower\n",
       "std    6.021776   12.337289   2.145204   520.680204   41.642693   39.544167\n",
       "mean  98.756585  174.049268  65.907805  2555.565854  126.907317  104.117073\n",
       "mode  94.500000  157.300000  63.800000  2385.000000   92.000000   68.000000"
      ]
     },
     "execution_count": 110,
     "metadata": {},
     "output_type": "execute_result"
    }
   ],
   "source": [
    "# Estadistica variables numericas\n",
    "variables = [\"wheelbase\", \"carlength\", \"carwidth\", \"curbweight\", \"enginesize\", \"horsepower\"]\n",
    "std = []\n",
    "media = []\n",
    "mode = []\n",
    "\n",
    "for variable in variables:\n",
    "    std.append(df[variable].std())\n",
    "    media.append(df[variable].mean())\n",
    "    mode.append(df[variable].mode()[0])\n",
    "    \n",
    "pd.DataFrame(columns = variables, data = [std, media, mode], index = [\"std\", \"mean\", \"mode\"])"
   ]
  },
  {
   "cell_type": "code",
   "execution_count": 111,
   "metadata": {},
   "outputs": [
    {
     "data": {
      "image/png": "[encoded data removed]",
      "text/plain": [
       "<Figure size 1080x720 with 3 Axes>"
      ]
     },
     "metadata": {
      "needs_background": "light"
     },
     "output_type": "display_data"
    }
   ],
   "source": [
    "# Barplot variables categoricas \n",
    "fig, ax = plt.subplots(3, 1, figsize = (15, 10))\n",
    "\n",
    "ax1 = sns.countplot(data = df, x = \"cylindernumber\", ax = ax[0])\n",
    "ax1.set_title(\"cylindernumber\")\n",
    "\n",
    "ax2 = sns.countplot(data = df, x = \"carbody\", ax = ax[1])\n",
    "ax2.set_title(\"carbody\")\n",
    "\n",
    "ax3 = sns.countplot(data = df, x = \"fueltype\", ax = ax[2])\n",
    "ax3.set_title(\"fueltype\")\n",
    "\n",
    "plt.subplots_adjust(hspace=0.5)\n",
    "plt.show()\n"
   ]
  },
  {
   "cell_type": "code",
   "execution_count": 112,
   "metadata": {},
   "outputs": [
    {
     "name": "stdout",
     "output_type": "stream",
     "text": [
      "carbody         convertible  hardtop  hatchback  sedan  wagon\n",
      "cylindernumber                                               \n",
      "eight                     1        1          1      2      0\n",
      "five                      0        1          1      7      2\n",
      "four                      4        4         57     73     21\n",
      "six                       1        2          6     13      2\n",
      "three                     0        0          1      0      0\n",
      "twelve                    0        0          0      1      0\n",
      "two                       0        0          4      0      0 \n",
      "\n",
      "fueltype        diesel  gas\n",
      "cylindernumber             \n",
      "eight                0    5\n",
      "five                 4    7\n",
      "four                15  144\n",
      "six                  1   23\n",
      "three                0    1\n",
      "twelve               0    1\n",
      "two                  0    4 \n",
      "\n",
      "fueltype     diesel  gas\n",
      "carbody                 \n",
      "convertible       0    6\n",
      "hardtop           1    7\n",
      "hatchback         1   69\n",
      "sedan            15   81\n",
      "wagon             3   22 \n",
      "\n"
     ]
    }
   ],
   "source": [
    "# Analisis variables categoricas\n",
    "print(pd.crosstab(df[\"cylindernumber\"], df[\"carbody\"]), \"\\n\")\n",
    "\n",
    "print(pd.crosstab(df[\"cylindernumber\"], df[\"fueltype\"]), \"\\n\")\n",
    "\n",
    "print(pd.crosstab(df[\"carbody\"], df[\"fueltype\"]), \"\\n\")"
   ]
  },
  {
   "cell_type": "code",
   "execution_count": 113,
   "metadata": {},
   "outputs": [
    {
     "data": {
      "text/html": [
       "<div>\n",
       "<style scoped>\n",
       "    .dataframe tbody tr th:only-of-type {\n",
       "        vertical-align: middle;\n",
       "    }\n",
       "\n",
       "    .dataframe tbody tr th {\n",
       "        vertical-align: top;\n",
       "    }\n",
       "\n",
       "    .dataframe thead th {\n",
       "        text-align: right;\n",
       "    }\n",
       "</style>\n",
       "<table border=\"1\" class=\"dataframe\">\n",
       "  <thead>\n",
       "    <tr style=\"text-align: right;\">\n",
       "      <th></th>\n",
       "      <th>index</th>\n",
       "      <th>price</th>\n",
       "    </tr>\n",
       "  </thead>\n",
       "  <tbody>\n",
       "    <tr>\n",
       "      <th>0</th>\n",
       "      <td>symboling</td>\n",
       "      <td>-0.079978</td>\n",
       "    </tr>\n",
       "    <tr>\n",
       "      <th>1</th>\n",
       "      <td>wheelbase</td>\n",
       "      <td>0.577816</td>\n",
       "    </tr>\n",
       "    <tr>\n",
       "      <th>2</th>\n",
       "      <td>carlength</td>\n",
       "      <td>0.682920</td>\n",
       "    </tr>\n",
       "    <tr>\n",
       "      <th>3</th>\n",
       "      <td>carwidth</td>\n",
       "      <td>0.759325</td>\n",
       "    </tr>\n",
       "    <tr>\n",
       "      <th>4</th>\n",
       "      <td>carheight</td>\n",
       "      <td>0.119336</td>\n",
       "    </tr>\n",
       "    <tr>\n",
       "      <th>5</th>\n",
       "      <td>curbweight</td>\n",
       "      <td>0.835305</td>\n",
       "    </tr>\n",
       "    <tr>\n",
       "      <th>6</th>\n",
       "      <td>enginesize</td>\n",
       "      <td>0.874145</td>\n",
       "    </tr>\n",
       "    <tr>\n",
       "      <th>7</th>\n",
       "      <td>stroke</td>\n",
       "      <td>0.079443</td>\n",
       "    </tr>\n",
       "    <tr>\n",
       "      <th>8</th>\n",
       "      <td>compressionratio</td>\n",
       "      <td>0.067984</td>\n",
       "    </tr>\n",
       "    <tr>\n",
       "      <th>9</th>\n",
       "      <td>horsepower</td>\n",
       "      <td>0.808139</td>\n",
       "    </tr>\n",
       "    <tr>\n",
       "      <th>10</th>\n",
       "      <td>peakrpm</td>\n",
       "      <td>-0.085267</td>\n",
       "    </tr>\n",
       "    <tr>\n",
       "      <th>11</th>\n",
       "      <td>citympg</td>\n",
       "      <td>-0.685751</td>\n",
       "    </tr>\n",
       "    <tr>\n",
       "      <th>12</th>\n",
       "      <td>highwaympg</td>\n",
       "      <td>-0.697599</td>\n",
       "    </tr>\n",
       "    <tr>\n",
       "      <th>13</th>\n",
       "      <td>price</td>\n",
       "      <td>1.000000</td>\n",
       "    </tr>\n",
       "  </tbody>\n",
       "</table>\n",
       "</div>"
      ],
      "text/plain": [
       "               index     price\n",
       "0          symboling -0.079978\n",
       "1          wheelbase  0.577816\n",
       "2          carlength  0.682920\n",
       "3           carwidth  0.759325\n",
       "4          carheight  0.119336\n",
       "5         curbweight  0.835305\n",
       "6         enginesize  0.874145\n",
       "7             stroke  0.079443\n",
       "8   compressionratio  0.067984\n",
       "9         horsepower  0.808139\n",
       "10           peakrpm -0.085267\n",
       "11           citympg -0.685751\n",
       "12        highwaympg -0.697599\n",
       "13             price  1.000000"
      ]
     },
     "execution_count": 113,
     "metadata": {},
     "output_type": "execute_result"
    }
   ],
   "source": [
    "# Regresion Linear \n",
    "df.corr()[\"price\"].reset_index()\n"
   ]
  },
  {
   "cell_type": "code",
   "execution_count": 114,
   "metadata": {},
   "outputs": [],
   "source": [
    "x_values = df[[\"carwidth\", \"carlength\", \"curbweight\", \"enginesize\", \"horsepower\", \"highwaympg\"]]\n",
    "\n",
    "y_values = df[[\"price\"]]\n",
    "\n",
    "x_train, x_test, y_train, y_test = train_test_split(x_values, y_values, test_size= 0.1, random_state = 1)"
   ]
  },
  {
   "cell_type": "code",
   "execution_count": 115,
   "metadata": {},
   "outputs": [
    {
     "data": {
      "text/plain": [
       "LinearRegression()"
      ]
     },
     "execution_count": 115,
     "metadata": {},
     "output_type": "execute_result"
    }
   ],
   "source": [
    "model = LinearRegression()\n",
    "\n",
    "model.fit(x_train, y_train)"
   ]
  },
  {
   "cell_type": "code",
   "execution_count": 116,
   "metadata": {},
   "outputs": [
    {
     "data": {
      "text/plain": [
       "0.7390391480652576"
      ]
     },
     "execution_count": 116,
     "metadata": {},
     "output_type": "execute_result"
    }
   ],
   "source": [
    "model.score(x_train, y_train)\n",
    "model.score(x_test, y_test)"
   ]
  },
  {
   "cell_type": "code",
   "execution_count": 117,
   "metadata": {},
   "outputs": [],
   "source": [
    "y_predict = model.predict(x_test)"
   ]
  },
  {
   "cell_type": "code",
   "execution_count": 118,
   "metadata": {},
   "outputs": [
    {
     "data": {
      "image/png": "[encoded data removed]",
      "text/plain": [
       "<Figure size 432x288 with 1 Axes>"
      ]
     },
     "metadata": {
      "needs_background": "light"
     },
     "output_type": "display_data"
    }
   ],
   "source": [
    "plt.clf()\n",
    "plt.scatter(y_test, y_predict)\n",
    "plt.show()"
   ]
  },
  {
   "cell_type": "code",
   "execution_count": 122,
   "metadata": {},
   "outputs": [
    {
     "data": {
      "text/html": [
       "<div>\n",
       "<style scoped>\n",
       "    .dataframe tbody tr th:only-of-type {\n",
       "        vertical-align: middle;\n",
       "    }\n",
       "\n",
       "    .dataframe tbody tr th {\n",
       "        vertical-align: top;\n",
       "    }\n",
       "\n",
       "    .dataframe thead th {\n",
       "        text-align: right;\n",
       "    }\n",
       "</style>\n",
       "<table border=\"1\" class=\"dataframe\">\n",
       "  <thead>\n",
       "    <tr style=\"text-align: right;\">\n",
       "      <th></th>\n",
       "      <th>cylindernumber</th>\n",
       "      <th>carbody</th>\n",
       "      <th>price</th>\n",
       "    </tr>\n",
       "  </thead>\n",
       "  <tbody>\n",
       "    <tr>\n",
       "      <th>18</th>\n",
       "      <td>three</td>\n",
       "      <td>hatchback</td>\n",
       "      <td>5151.000000</td>\n",
       "    </tr>\n",
       "    <tr>\n",
       "      <th>10</th>\n",
       "      <td>four</td>\n",
       "      <td>hatchback</td>\n",
       "      <td>9044.245614</td>\n",
       "    </tr>\n",
       "    <tr>\n",
       "      <th>9</th>\n",
       "      <td>four</td>\n",
       "      <td>hardtop</td>\n",
       "      <td>9384.000000</td>\n",
       "    </tr>\n",
       "    <tr>\n",
       "      <th>11</th>\n",
       "      <td>four</td>\n",
       "      <td>sedan</td>\n",
       "      <td>10837.479452</td>\n",
       "    </tr>\n",
       "    <tr>\n",
       "      <th>12</th>\n",
       "      <td>four</td>\n",
       "      <td>wagon</td>\n",
       "      <td>11046.761905</td>\n",
       "    </tr>\n",
       "    <tr>\n",
       "      <th>20</th>\n",
       "      <td>two</td>\n",
       "      <td>hatchback</td>\n",
       "      <td>13020.000000</td>\n",
       "    </tr>\n",
       "    <tr>\n",
       "      <th>8</th>\n",
       "      <td>four</td>\n",
       "      <td>convertible</td>\n",
       "      <td>14814.750000</td>\n",
       "    </tr>\n",
       "    <tr>\n",
       "      <th>17</th>\n",
       "      <td>six</td>\n",
       "      <td>wagon</td>\n",
       "      <td>15074.500000</td>\n",
       "    </tr>\n",
       "    <tr>\n",
       "      <th>15</th>\n",
       "      <td>six</td>\n",
       "      <td>hatchback</td>\n",
       "      <td>17392.166667</td>\n",
       "    </tr>\n",
       "    <tr>\n",
       "      <th>5</th>\n",
       "      <td>five</td>\n",
       "      <td>hatchback</td>\n",
       "      <td>17859.167000</td>\n",
       "    </tr>\n",
       "    <tr>\n",
       "      <th>6</th>\n",
       "      <td>five</td>\n",
       "      <td>sedan</td>\n",
       "      <td>20676.000000</td>\n",
       "    </tr>\n",
       "    <tr>\n",
       "      <th>7</th>\n",
       "      <td>five</td>\n",
       "      <td>wagon</td>\n",
       "      <td>23584.000000</td>\n",
       "    </tr>\n",
       "    <tr>\n",
       "      <th>16</th>\n",
       "      <td>six</td>\n",
       "      <td>sedan</td>\n",
       "      <td>25387.538462</td>\n",
       "    </tr>\n",
       "    <tr>\n",
       "      <th>4</th>\n",
       "      <td>five</td>\n",
       "      <td>hardtop</td>\n",
       "      <td>28176.000000</td>\n",
       "    </tr>\n",
       "    <tr>\n",
       "      <th>2</th>\n",
       "      <td>eight</td>\n",
       "      <td>hatchback</td>\n",
       "      <td>31400.500000</td>\n",
       "    </tr>\n",
       "    <tr>\n",
       "      <th>14</th>\n",
       "      <td>six</td>\n",
       "      <td>hardtop</td>\n",
       "      <td>33278.000000</td>\n",
       "    </tr>\n",
       "    <tr>\n",
       "      <th>0</th>\n",
       "      <td>eight</td>\n",
       "      <td>convertible</td>\n",
       "      <td>35056.000000</td>\n",
       "    </tr>\n",
       "    <tr>\n",
       "      <th>19</th>\n",
       "      <td>twelve</td>\n",
       "      <td>sedan</td>\n",
       "      <td>36000.000000</td>\n",
       "    </tr>\n",
       "    <tr>\n",
       "      <th>13</th>\n",
       "      <td>six</td>\n",
       "      <td>convertible</td>\n",
       "      <td>37028.000000</td>\n",
       "    </tr>\n",
       "    <tr>\n",
       "      <th>3</th>\n",
       "      <td>eight</td>\n",
       "      <td>sedan</td>\n",
       "      <td>37572.000000</td>\n",
       "    </tr>\n",
       "    <tr>\n",
       "      <th>1</th>\n",
       "      <td>eight</td>\n",
       "      <td>hardtop</td>\n",
       "      <td>45400.000000</td>\n",
       "    </tr>\n",
       "  </tbody>\n",
       "</table>\n",
       "</div>"
      ],
      "text/plain": [
       "   cylindernumber      carbody         price\n",
       "18          three    hatchback   5151.000000\n",
       "10           four    hatchback   9044.245614\n",
       "9            four      hardtop   9384.000000\n",
       "11           four        sedan  10837.479452\n",
       "12           four        wagon  11046.761905\n",
       "20            two    hatchback  13020.000000\n",
       "8            four  convertible  14814.750000\n",
       "17            six        wagon  15074.500000\n",
       "15            six    hatchback  17392.166667\n",
       "5            five    hatchback  17859.167000\n",
       "6            five        sedan  20676.000000\n",
       "7            five        wagon  23584.000000\n",
       "16            six        sedan  25387.538462\n",
       "4            five      hardtop  28176.000000\n",
       "2           eight    hatchback  31400.500000\n",
       "14            six      hardtop  33278.000000\n",
       "0           eight  convertible  35056.000000\n",
       "19         twelve        sedan  36000.000000\n",
       "13            six  convertible  37028.000000\n",
       "3           eight        sedan  37572.000000\n",
       "1           eight      hardtop  45400.000000"
      ]
     },
     "execution_count": 122,
     "metadata": {},
     "output_type": "execute_result"
    }
   ],
   "source": [
    "df.groupby([\"cylindernumber\", \"carbody\"])[\"price\"].mean().reset_index().sort_values(by = \"price\")"
   ]
  }
 ],
 "metadata": {
  "kernelspec": {
   "display_name": "Python 3.9.6 64-bit",
   "language": "python",
   "name": "python3"
  },
  "language_info": {
   "codemirror_mode": {
    "name": "ipython",
    "version": 3
   },
   "file_extension": ".py",
   "mimetype": "text/x-python",
   "name": "python",
   "nbconvert_exporter": "python",
   "pygments_lexer": "ipython3",
   "version": "3.9.6"
  },
  "orig_nbformat": 4,
  "vscode": {
   "interpreter": {
    "hash": "fc4fdd831cbcb95e85f5272ba7e5672ad09e180f3f6305e0833b349e4e3ff649"
   }
  }
 },
 "nbformat": 4,
 "nbformat_minor": 2
}
